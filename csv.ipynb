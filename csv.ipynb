{
 "cells": [
  {
   "cell_type": "code",
   "execution_count": 3,
   "id": "0121c7ea-cc80-4a9c-a618-bf7c04ee0f2f",
   "metadata": {},
   "outputs": [
    {
     "name": "stdout",
     "output_type": "stream",
     "text": [
      "차이 : 2370 전체 12601\n"
     ]
    }
   ],
   "source": [
    "import csv\n",
    "\n",
    "# 비교할 두 개의 csv 파일 경로 설정\n",
    "csv_file1 = './output11.csv' #비교할 csv\n",
    "csv_file2 = './answer_yp.csv' #현재 1등(용우오빠꺼)\n",
    "\n",
    "cnt = 0\n",
    "total = 0\n",
    "with open(csv_file1, 'r') as file1, open(csv_file2, 'r') as file2:\n",
    "    reader1 = csv.reader(file1)\n",
    "    reader2 = csv.reader(file2)\n",
    "    for row1, row2 in zip(reader1, reader2):\n",
    "        total += 1\n",
    "        # 한 줄에서 데이터가 다르면 cnt 1 증가\n",
    "        if row1 != row2:\n",
    "            cnt += 1\n",
    "            \n",
    "print(\"차이 :\", cnt, \"전체\", total)            "
   ]
  },
  {
   "cell_type": "code",
   "execution_count": null,
   "id": "7d857957-8def-4209-a7ba-152944da5754",
   "metadata": {},
   "outputs": [],
   "source": []
  }
 ],
 "metadata": {
  "kernelspec": {
   "display_name": "Python 3 (ipykernel)",
   "language": "python",
   "name": "python3"
  },
  "language_info": {
   "codemirror_mode": {
    "name": "ipython",
    "version": 3
   },
   "file_extension": ".py",
   "mimetype": "text/x-python",
   "name": "python",
   "nbconvert_exporter": "python",
   "pygments_lexer": "ipython3",
   "version": "3.8.5"
  }
 },
 "nbformat": 4,
 "nbformat_minor": 5
}
